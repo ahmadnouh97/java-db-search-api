{
 "cells": [
  {
   "cell_type": "code",
   "execution_count": 1,
   "id": "88dd36cc",
   "metadata": {},
   "outputs": [],
   "source": [
    "import pandas as pd"
   ]
  },
  {
   "cell_type": "code",
   "execution_count": 2,
   "id": "2a14bbdf",
   "metadata": {},
   "outputs": [],
   "source": [
    "data = pd.read_json('products.json', orient='records')"
   ]
  },
  {
   "cell_type": "code",
   "execution_count": 4,
   "id": "4366b50c",
   "metadata": {},
   "outputs": [
    {
     "data": {
      "text/plain": [
       "Index(['_id', 'url', 'name', 'code', 'highlight', 'imageUrl', 'collection',\n",
       "       'price'],\n",
       "      dtype='object')"
      ]
     },
     "execution_count": 4,
     "metadata": {},
     "output_type": "execute_result"
    }
   ],
   "source": [
    "data.columns"
   ]
  },
  {
   "cell_type": "code",
   "execution_count": 5,
   "id": "78dea8e0",
   "metadata": {},
   "outputs": [],
   "source": [
    "data = data[['url', 'name', 'code', 'highlight', 'imageUrl', 'collection', 'price']] "
   ]
  },
  {
   "cell_type": "code",
   "execution_count": 7,
   "id": "9c53a4c8",
   "metadata": {},
   "outputs": [
    {
     "name": "stderr",
     "output_type": "stream",
     "text": [
      "C:\\Users\\ahmad\\AppData\\Local\\Temp\\ipykernel_14872\\3425718724.py:1: SettingWithCopyWarning: \n",
      "A value is trying to be set on a copy of a slice from a DataFrame\n",
      "\n",
      "See the caveats in the documentation: https://pandas.pydata.org/pandas-docs/stable/user_guide/indexing.html#returning-a-view-versus-a-copy\n",
      "  data.rename(columns={'collection': 'category'}, inplace=True)\n"
     ]
    }
   ],
   "source": [
    "data.rename(columns={'collection': 'category'}, inplace=True)"
   ]
  },
  {
   "cell_type": "code",
   "execution_count": 11,
   "id": "379e5735",
   "metadata": {},
   "outputs": [],
   "source": [
    "ids = list(range(1, len(data)+1))"
   ]
  },
  {
   "cell_type": "code",
   "execution_count": 13,
   "id": "f343c247",
   "metadata": {},
   "outputs": [
    {
     "data": {
      "text/plain": [
       "422"
      ]
     },
     "execution_count": 13,
     "metadata": {},
     "output_type": "execute_result"
    }
   ],
   "source": [
    "len(ids)"
   ]
  },
  {
   "cell_type": "code",
   "execution_count": 14,
   "id": "1bf5d9a0",
   "metadata": {},
   "outputs": [
    {
     "data": {
      "text/plain": [
       "422"
      ]
     },
     "execution_count": 14,
     "metadata": {},
     "output_type": "execute_result"
    }
   ],
   "source": [
    "len(data)"
   ]
  },
  {
   "cell_type": "code",
   "execution_count": 15,
   "id": "ed9c6a6b",
   "metadata": {},
   "outputs": [],
   "source": [
    "data[\"id\"] = ids"
   ]
  },
  {
   "cell_type": "code",
   "execution_count": 17,
   "id": "bb0956e7",
   "metadata": {},
   "outputs": [
    {
     "data": {
      "text/plain": [
       "Index(['url', 'name', 'code', 'highlight', 'imageUrl', 'category', 'price',\n",
       "       'id'],\n",
       "      dtype='object')"
      ]
     },
     "execution_count": 17,
     "metadata": {},
     "output_type": "execute_result"
    }
   ],
   "source": [
    "data.columns"
   ]
  },
  {
   "cell_type": "code",
   "execution_count": 18,
   "id": "87e76f6e",
   "metadata": {},
   "outputs": [],
   "source": [
    "data = data[['url', 'name', 'code', 'highlight', 'imageUrl', 'category', 'price']]"
   ]
  },
  {
   "cell_type": "code",
   "execution_count": 20,
   "id": "7a04d44d",
   "metadata": {},
   "outputs": [],
   "source": [
    "data.to_json('records.json', orient='records', force_ascii=False, indent=4)"
   ]
  },
  {
   "cell_type": "code",
   "execution_count": null,
   "id": "a87900da",
   "metadata": {},
   "outputs": [],
   "source": []
  }
 ],
 "metadata": {
  "kernelspec": {
   "display_name": "Python 3 (ipykernel)",
   "language": "python",
   "name": "python3"
  },
  "language_info": {
   "codemirror_mode": {
    "name": "ipython",
    "version": 3
   },
   "file_extension": ".py",
   "mimetype": "text/x-python",
   "name": "python",
   "nbconvert_exporter": "python",
   "pygments_lexer": "ipython3",
   "version": "3.9.12"
  }
 },
 "nbformat": 4,
 "nbformat_minor": 5
}
